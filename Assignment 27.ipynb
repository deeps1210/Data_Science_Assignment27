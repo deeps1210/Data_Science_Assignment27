{
 "cells": [
  {
   "cell_type": "code",
   "execution_count": 1,
   "metadata": {},
   "outputs": [],
   "source": [
    "import pandas as pd\n",
    "import numpy as np"
   ]
  },
  {
   "cell_type": "code",
   "execution_count": 2,
   "metadata": {},
   "outputs": [
    {
     "data": {
      "text/plain": [
       "'C:\\\\Users\\\\Deepak'"
      ]
     },
     "execution_count": 2,
     "metadata": {},
     "output_type": "execute_result"
    }
   ],
   "source": [
    "pwd"
   ]
  },
  {
   "cell_type": "code",
   "execution_count": 4,
   "metadata": {},
   "outputs": [
    {
     "name": "stdout",
     "output_type": "stream",
     "text": [
      "C:\\Users\\Deepak\\Desktop\n"
     ]
    }
   ],
   "source": [
    "cd\\Users\\Deepak\\Desktop"
   ]
  },
  {
   "cell_type": "code",
   "execution_count": 5,
   "metadata": {},
   "outputs": [],
   "source": [
    "data = pd.read_csv('nba_2013.csv')"
   ]
  },
  {
   "cell_type": "code",
   "execution_count": 6,
   "metadata": {},
   "outputs": [
    {
     "data": {
      "text/html": [
       "<div>\n",
       "<style scoped>\n",
       "    .dataframe tbody tr th:only-of-type {\n",
       "        vertical-align: middle;\n",
       "    }\n",
       "\n",
       "    .dataframe tbody tr th {\n",
       "        vertical-align: top;\n",
       "    }\n",
       "\n",
       "    .dataframe thead th {\n",
       "        text-align: right;\n",
       "    }\n",
       "</style>\n",
       "<table border=\"1\" class=\"dataframe\">\n",
       "  <thead>\n",
       "    <tr style=\"text-align: right;\">\n",
       "      <th></th>\n",
       "      <th>player</th>\n",
       "      <th>pos</th>\n",
       "      <th>age</th>\n",
       "      <th>bref_team_id</th>\n",
       "      <th>g</th>\n",
       "      <th>gs</th>\n",
       "      <th>mp</th>\n",
       "      <th>fg</th>\n",
       "      <th>fga</th>\n",
       "      <th>fg.</th>\n",
       "      <th>...</th>\n",
       "      <th>drb</th>\n",
       "      <th>trb</th>\n",
       "      <th>ast</th>\n",
       "      <th>stl</th>\n",
       "      <th>blk</th>\n",
       "      <th>tov</th>\n",
       "      <th>pf</th>\n",
       "      <th>pts</th>\n",
       "      <th>season</th>\n",
       "      <th>season_end</th>\n",
       "    </tr>\n",
       "  </thead>\n",
       "  <tbody>\n",
       "    <tr>\n",
       "      <th>0</th>\n",
       "      <td>Quincy Acy</td>\n",
       "      <td>SF</td>\n",
       "      <td>23</td>\n",
       "      <td>TOT</td>\n",
       "      <td>63</td>\n",
       "      <td>0</td>\n",
       "      <td>847</td>\n",
       "      <td>66</td>\n",
       "      <td>141</td>\n",
       "      <td>0.468</td>\n",
       "      <td>...</td>\n",
       "      <td>144</td>\n",
       "      <td>216</td>\n",
       "      <td>28</td>\n",
       "      <td>23</td>\n",
       "      <td>26</td>\n",
       "      <td>30</td>\n",
       "      <td>122</td>\n",
       "      <td>171</td>\n",
       "      <td>2013-2014</td>\n",
       "      <td>2013</td>\n",
       "    </tr>\n",
       "    <tr>\n",
       "      <th>1</th>\n",
       "      <td>Steven Adams</td>\n",
       "      <td>C</td>\n",
       "      <td>20</td>\n",
       "      <td>OKC</td>\n",
       "      <td>81</td>\n",
       "      <td>20</td>\n",
       "      <td>1197</td>\n",
       "      <td>93</td>\n",
       "      <td>185</td>\n",
       "      <td>0.503</td>\n",
       "      <td>...</td>\n",
       "      <td>190</td>\n",
       "      <td>332</td>\n",
       "      <td>43</td>\n",
       "      <td>40</td>\n",
       "      <td>57</td>\n",
       "      <td>71</td>\n",
       "      <td>203</td>\n",
       "      <td>265</td>\n",
       "      <td>2013-2014</td>\n",
       "      <td>2013</td>\n",
       "    </tr>\n",
       "    <tr>\n",
       "      <th>2</th>\n",
       "      <td>Jeff Adrien</td>\n",
       "      <td>PF</td>\n",
       "      <td>27</td>\n",
       "      <td>TOT</td>\n",
       "      <td>53</td>\n",
       "      <td>12</td>\n",
       "      <td>961</td>\n",
       "      <td>143</td>\n",
       "      <td>275</td>\n",
       "      <td>0.520</td>\n",
       "      <td>...</td>\n",
       "      <td>204</td>\n",
       "      <td>306</td>\n",
       "      <td>38</td>\n",
       "      <td>24</td>\n",
       "      <td>36</td>\n",
       "      <td>39</td>\n",
       "      <td>108</td>\n",
       "      <td>362</td>\n",
       "      <td>2013-2014</td>\n",
       "      <td>2013</td>\n",
       "    </tr>\n",
       "    <tr>\n",
       "      <th>3</th>\n",
       "      <td>Arron Afflalo</td>\n",
       "      <td>SG</td>\n",
       "      <td>28</td>\n",
       "      <td>ORL</td>\n",
       "      <td>73</td>\n",
       "      <td>73</td>\n",
       "      <td>2552</td>\n",
       "      <td>464</td>\n",
       "      <td>1011</td>\n",
       "      <td>0.459</td>\n",
       "      <td>...</td>\n",
       "      <td>230</td>\n",
       "      <td>262</td>\n",
       "      <td>248</td>\n",
       "      <td>35</td>\n",
       "      <td>3</td>\n",
       "      <td>146</td>\n",
       "      <td>136</td>\n",
       "      <td>1330</td>\n",
       "      <td>2013-2014</td>\n",
       "      <td>2013</td>\n",
       "    </tr>\n",
       "    <tr>\n",
       "      <th>4</th>\n",
       "      <td>Alexis Ajinca</td>\n",
       "      <td>C</td>\n",
       "      <td>25</td>\n",
       "      <td>NOP</td>\n",
       "      <td>56</td>\n",
       "      <td>30</td>\n",
       "      <td>951</td>\n",
       "      <td>136</td>\n",
       "      <td>249</td>\n",
       "      <td>0.546</td>\n",
       "      <td>...</td>\n",
       "      <td>183</td>\n",
       "      <td>277</td>\n",
       "      <td>40</td>\n",
       "      <td>23</td>\n",
       "      <td>46</td>\n",
       "      <td>63</td>\n",
       "      <td>187</td>\n",
       "      <td>328</td>\n",
       "      <td>2013-2014</td>\n",
       "      <td>2013</td>\n",
       "    </tr>\n",
       "  </tbody>\n",
       "</table>\n",
       "<p>5 rows × 31 columns</p>\n",
       "</div>"
      ],
      "text/plain": [
       "          player pos  age bref_team_id   g  gs    mp   fg   fga    fg.  \\\n",
       "0     Quincy Acy  SF   23          TOT  63   0   847   66   141  0.468   \n",
       "1   Steven Adams   C   20          OKC  81  20  1197   93   185  0.503   \n",
       "2    Jeff Adrien  PF   27          TOT  53  12   961  143   275  0.520   \n",
       "3  Arron Afflalo  SG   28          ORL  73  73  2552  464  1011  0.459   \n",
       "4  Alexis Ajinca   C   25          NOP  56  30   951  136   249  0.546   \n",
       "\n",
       "      ...      drb  trb  ast  stl  blk  tov   pf   pts     season  season_end  \n",
       "0     ...      144  216   28   23   26   30  122   171  2013-2014        2013  \n",
       "1     ...      190  332   43   40   57   71  203   265  2013-2014        2013  \n",
       "2     ...      204  306   38   24   36   39  108   362  2013-2014        2013  \n",
       "3     ...      230  262  248   35    3  146  136  1330  2013-2014        2013  \n",
       "4     ...      183  277   40   23   46   63  187   328  2013-2014        2013  \n",
       "\n",
       "[5 rows x 31 columns]"
      ]
     },
     "execution_count": 6,
     "metadata": {},
     "output_type": "execute_result"
    }
   ],
   "source": [
    "data.head()"
   ]
  },
  {
   "cell_type": "code",
   "execution_count": 7,
   "metadata": {},
   "outputs": [
    {
     "name": "stdout",
     "output_type": "stream",
     "text": [
      "<class 'pandas.core.frame.DataFrame'>\n",
      "RangeIndex: 481 entries, 0 to 480\n",
      "Data columns (total 31 columns):\n",
      "player          481 non-null object\n",
      "pos             481 non-null object\n",
      "age             481 non-null int64\n",
      "bref_team_id    481 non-null object\n",
      "g               481 non-null int64\n",
      "gs              481 non-null int64\n",
      "mp              481 non-null int64\n",
      "fg              481 non-null int64\n",
      "fga             481 non-null int64\n",
      "fg.             479 non-null float64\n",
      "x3p             481 non-null int64\n",
      "x3pa            481 non-null int64\n",
      "x3p.            414 non-null float64\n",
      "x2p             481 non-null int64\n",
      "x2pa            481 non-null int64\n",
      "x2p.            478 non-null float64\n",
      "efg.            479 non-null float64\n",
      "ft              481 non-null int64\n",
      "fta             481 non-null int64\n",
      "ft.             461 non-null float64\n",
      "orb             481 non-null int64\n",
      "drb             481 non-null int64\n",
      "trb             481 non-null int64\n",
      "ast             481 non-null int64\n",
      "stl             481 non-null int64\n",
      "blk             481 non-null int64\n",
      "tov             481 non-null int64\n",
      "pf              481 non-null int64\n",
      "pts             481 non-null int64\n",
      "season          481 non-null object\n",
      "season_end      481 non-null int64\n",
      "dtypes: float64(5), int64(22), object(4)\n",
      "memory usage: 116.6+ KB\n"
     ]
    }
   ],
   "source": [
    "data.info()"
   ]
  },
  {
   "cell_type": "code",
   "execution_count": 18,
   "metadata": {},
   "outputs": [],
   "source": [
    "dst_columns = [i for i in data.select_dtypes(include = 'number').columns]"
   ]
  },
  {
   "cell_type": "code",
   "execution_count": 47,
   "metadata": {},
   "outputs": [
    {
     "data": {
      "text/plain": [
       "['age',\n",
       " 'g',\n",
       " 'gs',\n",
       " 'mp',\n",
       " 'fg',\n",
       " 'fga',\n",
       " 'fg.',\n",
       " 'x3p',\n",
       " 'x3pa',\n",
       " 'x3p.',\n",
       " 'x2p',\n",
       " 'x2pa',\n",
       " 'x2p.',\n",
       " 'efg.',\n",
       " 'ft',\n",
       " 'fta',\n",
       " 'ft.',\n",
       " 'orb',\n",
       " 'drb',\n",
       " 'trb',\n",
       " 'ast',\n",
       " 'stl',\n",
       " 'blk',\n",
       " 'tov',\n",
       " 'pf',\n",
       " 'pts',\n",
       " 'season_end']"
      ]
     },
     "execution_count": 47,
     "metadata": {},
     "output_type": "execute_result"
    }
   ],
   "source": [
    "dst_columns"
   ]
  },
  {
   "cell_type": "code",
   "execution_count": 79,
   "metadata": {},
   "outputs": [],
   "source": [
    "x_columns = data.select_dtypes(include = 'number').drop(['pts','season_end'], axis = 1)"
   ]
  },
  {
   "cell_type": "code",
   "execution_count": 62,
   "metadata": {},
   "outputs": [],
   "source": [
    "y_columns = data['pts']"
   ]
  },
  {
   "cell_type": "code",
   "execution_count": 48,
   "metadata": {},
   "outputs": [
    {
     "data": {
      "text/html": [
       "<div>\n",
       "<style scoped>\n",
       "    .dataframe tbody tr th:only-of-type {\n",
       "        vertical-align: middle;\n",
       "    }\n",
       "\n",
       "    .dataframe tbody tr th {\n",
       "        vertical-align: top;\n",
       "    }\n",
       "\n",
       "    .dataframe thead th {\n",
       "        text-align: right;\n",
       "    }\n",
       "</style>\n",
       "<table border=\"1\" class=\"dataframe\">\n",
       "  <thead>\n",
       "    <tr style=\"text-align: right;\">\n",
       "      <th></th>\n",
       "      <th>age</th>\n",
       "      <th>g</th>\n",
       "      <th>gs</th>\n",
       "      <th>mp</th>\n",
       "      <th>fg</th>\n",
       "      <th>fga</th>\n",
       "      <th>fg.</th>\n",
       "      <th>x3p</th>\n",
       "      <th>x3pa</th>\n",
       "      <th>x3p.</th>\n",
       "      <th>...</th>\n",
       "      <th>fta</th>\n",
       "      <th>ft.</th>\n",
       "      <th>orb</th>\n",
       "      <th>drb</th>\n",
       "      <th>trb</th>\n",
       "      <th>ast</th>\n",
       "      <th>stl</th>\n",
       "      <th>blk</th>\n",
       "      <th>tov</th>\n",
       "      <th>pf</th>\n",
       "    </tr>\n",
       "  </thead>\n",
       "  <tbody>\n",
       "    <tr>\n",
       "      <th>0</th>\n",
       "      <td>23</td>\n",
       "      <td>63</td>\n",
       "      <td>0</td>\n",
       "      <td>847</td>\n",
       "      <td>66</td>\n",
       "      <td>141</td>\n",
       "      <td>0.468</td>\n",
       "      <td>4</td>\n",
       "      <td>15</td>\n",
       "      <td>0.266667</td>\n",
       "      <td>...</td>\n",
       "      <td>53</td>\n",
       "      <td>0.660</td>\n",
       "      <td>72</td>\n",
       "      <td>144</td>\n",
       "      <td>216</td>\n",
       "      <td>28</td>\n",
       "      <td>23</td>\n",
       "      <td>26</td>\n",
       "      <td>30</td>\n",
       "      <td>122</td>\n",
       "    </tr>\n",
       "    <tr>\n",
       "      <th>1</th>\n",
       "      <td>20</td>\n",
       "      <td>81</td>\n",
       "      <td>20</td>\n",
       "      <td>1197</td>\n",
       "      <td>93</td>\n",
       "      <td>185</td>\n",
       "      <td>0.503</td>\n",
       "      <td>0</td>\n",
       "      <td>0</td>\n",
       "      <td>NaN</td>\n",
       "      <td>...</td>\n",
       "      <td>136</td>\n",
       "      <td>0.581</td>\n",
       "      <td>142</td>\n",
       "      <td>190</td>\n",
       "      <td>332</td>\n",
       "      <td>43</td>\n",
       "      <td>40</td>\n",
       "      <td>57</td>\n",
       "      <td>71</td>\n",
       "      <td>203</td>\n",
       "    </tr>\n",
       "    <tr>\n",
       "      <th>2</th>\n",
       "      <td>27</td>\n",
       "      <td>53</td>\n",
       "      <td>12</td>\n",
       "      <td>961</td>\n",
       "      <td>143</td>\n",
       "      <td>275</td>\n",
       "      <td>0.520</td>\n",
       "      <td>0</td>\n",
       "      <td>0</td>\n",
       "      <td>NaN</td>\n",
       "      <td>...</td>\n",
       "      <td>119</td>\n",
       "      <td>0.639</td>\n",
       "      <td>102</td>\n",
       "      <td>204</td>\n",
       "      <td>306</td>\n",
       "      <td>38</td>\n",
       "      <td>24</td>\n",
       "      <td>36</td>\n",
       "      <td>39</td>\n",
       "      <td>108</td>\n",
       "    </tr>\n",
       "    <tr>\n",
       "      <th>3</th>\n",
       "      <td>28</td>\n",
       "      <td>73</td>\n",
       "      <td>73</td>\n",
       "      <td>2552</td>\n",
       "      <td>464</td>\n",
       "      <td>1011</td>\n",
       "      <td>0.459</td>\n",
       "      <td>128</td>\n",
       "      <td>300</td>\n",
       "      <td>0.426667</td>\n",
       "      <td>...</td>\n",
       "      <td>336</td>\n",
       "      <td>0.815</td>\n",
       "      <td>32</td>\n",
       "      <td>230</td>\n",
       "      <td>262</td>\n",
       "      <td>248</td>\n",
       "      <td>35</td>\n",
       "      <td>3</td>\n",
       "      <td>146</td>\n",
       "      <td>136</td>\n",
       "    </tr>\n",
       "    <tr>\n",
       "      <th>4</th>\n",
       "      <td>25</td>\n",
       "      <td>56</td>\n",
       "      <td>30</td>\n",
       "      <td>951</td>\n",
       "      <td>136</td>\n",
       "      <td>249</td>\n",
       "      <td>0.546</td>\n",
       "      <td>0</td>\n",
       "      <td>1</td>\n",
       "      <td>0.000000</td>\n",
       "      <td>...</td>\n",
       "      <td>67</td>\n",
       "      <td>0.836</td>\n",
       "      <td>94</td>\n",
       "      <td>183</td>\n",
       "      <td>277</td>\n",
       "      <td>40</td>\n",
       "      <td>23</td>\n",
       "      <td>46</td>\n",
       "      <td>63</td>\n",
       "      <td>187</td>\n",
       "    </tr>\n",
       "  </tbody>\n",
       "</table>\n",
       "<p>5 rows × 25 columns</p>\n",
       "</div>"
      ],
      "text/plain": [
       "   age   g  gs    mp   fg   fga    fg.  x3p  x3pa      x3p. ...   fta    ft.  \\\n",
       "0   23  63   0   847   66   141  0.468    4    15  0.266667 ...    53  0.660   \n",
       "1   20  81  20  1197   93   185  0.503    0     0       NaN ...   136  0.581   \n",
       "2   27  53  12   961  143   275  0.520    0     0       NaN ...   119  0.639   \n",
       "3   28  73  73  2552  464  1011  0.459  128   300  0.426667 ...   336  0.815   \n",
       "4   25  56  30   951  136   249  0.546    0     1  0.000000 ...    67  0.836   \n",
       "\n",
       "   orb  drb  trb  ast  stl  blk  tov   pf  \n",
       "0   72  144  216   28   23   26   30  122  \n",
       "1  142  190  332   43   40   57   71  203  \n",
       "2  102  204  306   38   24   36   39  108  \n",
       "3   32  230  262  248   35    3  146  136  \n",
       "4   94  183  277   40   23   46   63  187  \n",
       "\n",
       "[5 rows x 25 columns]"
      ]
     },
     "execution_count": 48,
     "metadata": {},
     "output_type": "execute_result"
    }
   ],
   "source": [
    "x_columns.head()"
   ]
  },
  {
   "cell_type": "code",
   "execution_count": 63,
   "metadata": {},
   "outputs": [
    {
     "data": {
      "text/plain": [
       "0     171\n",
       "1     265\n",
       "2     362\n",
       "3    1330\n",
       "4     328\n",
       "Name: pts, dtype: int64"
      ]
     },
     "execution_count": 63,
     "metadata": {},
     "output_type": "execute_result"
    }
   ],
   "source": [
    "y_columns.head()"
   ]
  },
  {
   "cell_type": "code",
   "execution_count": 68,
   "metadata": {},
   "outputs": [
    {
     "data": {
      "text/plain": [
       "age      0\n",
       "g        0\n",
       "gs       0\n",
       "mp       0\n",
       "fg       0\n",
       "fga      0\n",
       "fg.      2\n",
       "x3p      0\n",
       "x3pa     0\n",
       "x3p.    67\n",
       "x2p      0\n",
       "x2pa     0\n",
       "x2p.     3\n",
       "efg.     2\n",
       "ft       0\n",
       "fta      0\n",
       "ft.     20\n",
       "orb      0\n",
       "drb      0\n",
       "trb      0\n",
       "ast      0\n",
       "stl      0\n",
       "blk      0\n",
       "tov      0\n",
       "pf       0\n",
       "dtype: int64"
      ]
     },
     "execution_count": 68,
     "metadata": {},
     "output_type": "execute_result"
    }
   ],
   "source": [
    "x_columns.isnull().sum()"
   ]
  },
  {
   "cell_type": "code",
   "execution_count": 82,
   "metadata": {},
   "outputs": [
    {
     "data": {
      "text/plain": [
       "age       26.509356\n",
       "g         53.253638\n",
       "gs        25.571726\n",
       "mp      1237.386694\n",
       "fg       192.881497\n",
       "fga      424.463617\n",
       "fg.        0.436436\n",
       "x3p       39.613306\n",
       "x3pa     110.130977\n",
       "x3p.       0.285111\n",
       "x2p      153.268191\n",
       "x2pa     314.332640\n",
       "x2p.       0.466947\n",
       "efg.       0.480752\n",
       "ft        91.205821\n",
       "fta      120.642412\n",
       "ft.        0.722419\n",
       "orb       55.810811\n",
       "drb      162.817048\n",
       "trb      218.627859\n",
       "ast      112.536383\n",
       "stl       39.280665\n",
       "blk       24.103950\n",
       "tov       71.862786\n",
       "pf       105.869023\n",
       "dtype: float64"
      ]
     },
     "execution_count": 82,
     "metadata": {},
     "output_type": "execute_result"
    }
   ],
   "source": [
    "x_columns.mean()"
   ]
  },
  {
   "cell_type": "code",
   "execution_count": 85,
   "metadata": {},
   "outputs": [
    {
     "data": {
      "text/plain": [
       "'treating all nan values by replacing them with the mean values'"
      ]
     },
     "execution_count": 85,
     "metadata": {},
     "output_type": "execute_result"
    }
   ],
   "source": [
    "\"\"\"treating all nan values by replacing them with the mean values\"\"\""
   ]
  },
  {
   "cell_type": "code",
   "execution_count": 83,
   "metadata": {},
   "outputs": [],
   "source": [
    "x_columns.fillna(x_columns.mean(), inplace=True)"
   ]
  },
  {
   "cell_type": "code",
   "execution_count": 84,
   "metadata": {},
   "outputs": [
    {
     "data": {
      "text/plain": [
       "age     0\n",
       "g       0\n",
       "gs      0\n",
       "mp      0\n",
       "fg      0\n",
       "fga     0\n",
       "fg.     0\n",
       "x3p     0\n",
       "x3pa    0\n",
       "x3p.    0\n",
       "x2p     0\n",
       "x2pa    0\n",
       "x2p.    0\n",
       "efg.    0\n",
       "ft      0\n",
       "fta     0\n",
       "ft.     0\n",
       "orb     0\n",
       "drb     0\n",
       "trb     0\n",
       "ast     0\n",
       "stl     0\n",
       "blk     0\n",
       "tov     0\n",
       "pf      0\n",
       "dtype: int64"
      ]
     },
     "execution_count": 84,
     "metadata": {},
     "output_type": "execute_result"
    }
   ],
   "source": [
    "x_columns.isnull().sum()"
   ]
  },
  {
   "cell_type": "code",
   "execution_count": 65,
   "metadata": {},
   "outputs": [],
   "source": [
    "from sklearn.model_selection import train_test_split"
   ]
  },
  {
   "cell_type": "code",
   "execution_count": 86,
   "metadata": {},
   "outputs": [],
   "source": [
    "x_train, x_test, y_train, y_test = train_test_split(x_columns, y_columns)"
   ]
  },
  {
   "cell_type": "code",
   "execution_count": 87,
   "metadata": {},
   "outputs": [],
   "source": [
    "from sklearn.neighbors import KNeighborsRegressor\n",
    "# Create the knn model.\n",
    "knn = KNeighborsRegressor(n_neighbors=5)\n",
    "# Fit the model on the training data.\n",
    "knn.fit(x_train, y_train)\n",
    "# Make predictions on the test set using the fit model.\n",
    "predictions = knn.predict(x_test)"
   ]
  },
  {
   "cell_type": "code",
   "execution_count": 100,
   "metadata": {},
   "outputs": [
    {
     "data": {
      "text/plain": [
       "array([1.2000e+00, 1.3476e+03, 1.5180e+02, 6.4720e+02, 1.5600e+01,\n",
       "       3.5900e+02, 1.9620e+02, 1.1600e+03, 2.8640e+02, 3.1040e+02,\n",
       "       4.2420e+02, 1.5200e+01, 1.5826e+03, 3.2660e+02, 1.0078e+03,\n",
       "       7.4400e+01, 1.0000e+00, 3.4800e+01, 2.4200e+02, 3.9080e+02,\n",
       "       4.6260e+02, 1.2000e+00, 6.1600e+02, 2.0760e+02, 3.9400e+02,\n",
       "       8.3600e+01, 1.6840e+02, 3.8980e+02, 1.6960e+02, 4.9000e+02,\n",
       "       6.8400e+01, 6.6060e+02, 7.6260e+02, 5.6360e+02, 1.0940e+02,\n",
       "       1.0940e+02, 5.9120e+02, 8.1200e+02, 3.9000e+01, 2.5000e+02,\n",
       "       1.1438e+03, 1.0720e+02, 1.4514e+03, 5.1540e+02, 1.7200e+01,\n",
       "       3.0440e+02, 8.1940e+02, 5.6580e+02, 4.7120e+02, 7.9500e+02,\n",
       "       1.0940e+02, 3.9000e+01, 1.0870e+03, 1.7400e+01, 3.3820e+02,\n",
       "       6.0080e+02, 9.3500e+02, 4.0880e+02, 6.2620e+02, 1.1166e+03,\n",
       "       1.3160e+02, 5.9480e+02, 1.6600e+02, 2.5460e+02, 3.5280e+02,\n",
       "       5.7660e+02, 7.7180e+02, 1.9488e+03, 1.0178e+03, 1.2560e+02,\n",
       "       8.3460e+02, 1.2900e+02, 8.5400e+01, 8.8200e+01, 5.9400e+01,\n",
       "       1.4200e+01, 1.6420e+02, 1.9800e+01, 2.6400e+01, 6.7800e+01,\n",
       "       6.9320e+02, 8.1040e+02, 3.3840e+02, 3.7180e+02, 8.6000e+01,\n",
       "       1.2740e+02, 7.4740e+02, 8.5600e+01, 1.0242e+03, 7.7600e+01,\n",
       "       7.9200e+02, 1.3554e+03, 3.2400e+01, 1.0940e+02, 3.1640e+02,\n",
       "       1.3314e+03, 1.2350e+03, 6.5400e+01, 1.0272e+03, 3.3700e+02,\n",
       "       1.7440e+02, 1.2700e+02, 1.0200e+01, 5.9640e+02, 2.9660e+02,\n",
       "       1.2308e+03, 9.8000e+00, 4.2780e+02, 7.9140e+02, 1.7566e+03,\n",
       "       1.8460e+02, 3.2120e+02, 1.2358e+03, 4.8000e+00, 1.6880e+02,\n",
       "       6.7640e+02, 2.7720e+02, 5.0700e+02, 1.8820e+02, 1.5346e+03,\n",
       "       1.5320e+02])"
      ]
     },
     "execution_count": 100,
     "metadata": {},
     "output_type": "execute_result"
    }
   ],
   "source": [
    "predictions"
   ]
  },
  {
   "cell_type": "code",
   "execution_count": 104,
   "metadata": {},
   "outputs": [
    {
     "data": {
      "text/plain": [
       "0.9735259901197784"
      ]
     },
     "execution_count": 104,
     "metadata": {},
     "output_type": "execute_result"
    }
   ],
   "source": [
    "knn.score(x_test,y_test)"
   ]
  },
  {
   "cell_type": "code",
   "execution_count": null,
   "metadata": {},
   "outputs": [],
   "source": []
  }
 ],
 "metadata": {
  "kernelspec": {
   "display_name": "Python 3",
   "language": "python",
   "name": "python3"
  },
  "language_info": {
   "codemirror_mode": {
    "name": "ipython",
    "version": 3
   },
   "file_extension": ".py",
   "mimetype": "text/x-python",
   "name": "python",
   "nbconvert_exporter": "python",
   "pygments_lexer": "ipython3",
   "version": "3.6.7"
  }
 },
 "nbformat": 4,
 "nbformat_minor": 2
}
